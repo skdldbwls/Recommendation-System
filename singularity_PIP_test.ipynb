{
 "cells": [
  {
   "cell_type": "markdown",
   "metadata": {},
   "source": [
    "# Final_term\n",
    "17011724 최시우 / 17011730 이유진 / 17011739 이재훈"
   ]
  },
  {
   "cell_type": "code",
   "execution_count": 1,
   "metadata": {},
   "outputs": [],
   "source": [
    "import pandas as pd\n",
    "import numpy as np\n",
    "import jester_data"
   ]
  },
  {
   "cell_type": "code",
   "execution_count": 2,
   "metadata": {},
   "outputs": [
    {
     "data": {
      "text/plain": [
       "array([[4.08, -0.29, 6.36, ..., 0.34, -4.32, 1.07],\n",
       "       [-6.17, -3.54, 0.44, ..., -9.08, -5.05, -3.45],\n",
       "       [6.84, 3.16, 9.17, ..., -0.05, 1.31, 0.0],\n",
       "       ...,\n",
       "       [5.34, -9.71, 4.95, ..., -1.12, -5.63, 5.68],\n",
       "       [7.67, 8.2, 0.78, ..., -2.23, -7.91, -7.52],\n",
       "       [-7.57, -4.71, -9.32, ..., -9.03, -4.37, -4.81]], dtype=object)"
      ]
     },
     "execution_count": 2,
     "metadata": {},
     "output_type": "execute_result"
    }
   ],
   "source": [
    "rate=jester_data.m\n",
    "rate"
   ]
  },
  {
   "cell_type": "code",
   "execution_count": 3,
   "metadata": {
    "scrolled": true
   },
   "outputs": [],
   "source": [
    "rate=(rate+10)/20 # 0-1정규화\n",
    "rate10=rate[:10,:]"
   ]
  },
  {
   "cell_type": "markdown",
   "metadata": {},
   "source": [
    "# 1) Singularity"
   ]
  },
  {
   "cell_type": "code",
   "execution_count": 19,
   "metadata": {},
   "outputs": [],
   "source": [
    "Sp=np.zeros([100]) ; Sn=np.zeros([100])\n",
    "Sp=1-(sum(rate>0.5)/1000)\n",
    "#Sn=1-(sum(rate<=0.5)/1000)\n",
    "Sn=1-Sp  #Sp+Sn=1"
   ]
  },
  {
   "cell_type": "code",
   "execution_count": 18,
   "metadata": {},
   "outputs": [],
   "source": [
    "def singularity(a):\n",
    "    Sim=np.zeros([1000,1000])\n",
    "    for u in range(1000):\n",
    "        for v in range(u,1000):\n",
    "            AA=np.zeros([100]) ; BB=np.zeros([100]) ; CC=np.zeros([100])\n",
    "            U=10\n",
    "            \n",
    "            #case1\n",
    "            #A=len(np.where((a[u,:]>0.5) & (a[v,:]>0.5))[0])\n",
    "            index=np.where((a[u,:]>0.5) & (a[v,:]>0.5))\n",
    "            A=len(index[0])\n",
    "            AA[index]=AA[index]+(1-(a[u,index]-a[v,index])**2)*(Sp[index]**2)\n",
    "            \n",
    "            \n",
    "            #case2\n",
    "            #B=len(np.where((a[u,:]<=0.5) & (a[v,:]<=0.5))[0])\n",
    "            index=np.where((a[u,:]<=0.5) & (a[v,:]<=0.5))\n",
    "            B=len(index[0])\n",
    "            BB[index]=BB[index]+(1-(a[u,index]-a[v,index])**2)*(Sn[index]**2)\n",
    "                     \n",
    "                \n",
    "            #case3\n",
    "            #C=len(np.where(((a[u,:]>0.5) & (a[v,:]<=0.5)) | ((a[u,:]<=0.5) & (a[v,:]>0.5)))[0])\n",
    "            index=np.where(((a[u,:]>0.5) & (a[v,:]<=0.5)) | ((a[u,:]<=0.5) & (a[v,:]>0.5)))\n",
    "            C=len(index[0])\n",
    "            CC[index]=CC[index]+(1-(a[u,index]-a[v,index])**2)*(Sp[index]*Sn[index])\n",
    "           \n",
    "            if A==0 or B==0 or C==0:\n",
    "                Sim[u,v]=0\n",
    "                Sim[v,u]=Sim[u,v]\n",
    "            else:\n",
    "                Sim[u,v]=(sum(AA)/A + sum(BB)/B + sum(CC)/C)/3\n",
    "                Sim[v,u]=Sim[u,v]\n",
    "                \n",
    "    return Sim"
   ]
  },
  {
   "cell_type": "code",
   "execution_count": 63,
   "metadata": {},
   "outputs": [
    {
     "data": {
      "text/plain": [
       "array([[0.        , 0.2509152 , 0.23148972, ..., 0.19933016, 0.18067581,\n",
       "        0.19576144],\n",
       "       [0.2509152 , 0.        , 0.23804159, ..., 0.19834897, 0.21139385,\n",
       "        0.20270659],\n",
       "       [0.23148972, 0.23804159, 0.        , ..., 0.18973412, 0.19246311,\n",
       "        0.18624222],\n",
       "       ...,\n",
       "       [0.19933016, 0.19834897, 0.18973412, ..., 0.        , 0.16744105,\n",
       "        0.15926692],\n",
       "       [0.18067581, 0.21139385, 0.19246311, ..., 0.16744105, 0.        ,\n",
       "        0.16772257],\n",
       "       [0.19576144, 0.20270659, 0.18624222, ..., 0.15926692, 0.16772257,\n",
       "        0.        ]])"
      ]
     },
     "execution_count": 63,
     "metadata": {},
     "output_type": "execute_result"
    }
   ],
   "source": [
    "result_s=singularity(rate)\n",
    "result_s"
   ]
  },
  {
   "cell_type": "markdown",
   "metadata": {},
   "source": [
    "# 2) PIP\n",
    "\n",
    "### Proximity x Impact x Popularity"
   ]
  },
  {
   "cell_type": "markdown",
   "metadata": {},
   "source": [
    "## - avg"
   ]
  },
  {
   "cell_type": "code",
   "execution_count": 5,
   "metadata": {},
   "outputs": [],
   "source": [
    "avg=[] #아이템 평점의 평균을 구하는 시간을 줄이기 새로운 리스트를 할당하여 미리 구해놓은 뒤 활용\n",
    "for i in range (100):\n",
    "    avg.append(np.mean(rate[:,i]))"
   ]
  },
  {
   "cell_type": "markdown",
   "metadata": {},
   "source": [
    "## - Rmax, Rmin, Rm"
   ]
  },
  {
   "cell_type": "code",
   "execution_count": 6,
   "metadata": {},
   "outputs": [],
   "source": [
    "Rmax=1.0\n",
    "Rmin=0.0\n",
    "Rm=(Rmax+Rmin)/2"
   ]
  },
  {
   "cell_type": "markdown",
   "metadata": {},
   "source": [
    "## - Agreement"
   ]
  },
  {
   "cell_type": "code",
   "execution_count": 7,
   "metadata": {},
   "outputs": [],
   "source": [
    "def Agreement(a,b):\n",
    "    agreement=np.array(a*b>=Rm,dtype=np.int)\n",
    "    agreement=np.where(agreement==0,2,agreement)\n",
    "    #print(agreement)\n",
    "    return agreement"
   ]
  },
  {
   "cell_type": "markdown",
   "metadata": {},
   "source": [
    "## - Proximity "
   ]
  },
  {
   "cell_type": "code",
   "execution_count": 8,
   "metadata": {},
   "outputs": [],
   "source": [
    "def Proximity(a,u,v):\n",
    "    proximity=np.zeros([100])\n",
    "    c=Agreement(a[u,:], a[v,:]) #True->1  /  False->2\n",
    "    proximity=((2*(Rmax-Rmin)+1)-(c*np.abs(a[u,:]-a[v,:])))**2 \n",
    "    return proximity"
   ]
  },
  {
   "cell_type": "markdown",
   "metadata": {},
   "source": [
    "## - Impact"
   ]
  },
  {
   "cell_type": "code",
   "execution_count": 9,
   "metadata": {},
   "outputs": [],
   "source": [
    "def Impact(a,u,v):\n",
    "    impact=np.zeros([100])\n",
    "    agreement=Agreement(a[u,:],a[v,:])\n",
    "    \n",
    "    impact=np.where(agreement==1,(np.abs(a[u,:]-Rm)+1)*(np.abs(a[v,:]-Rm)+1),impact)\n",
    "    impact=np.where(agreement==2,1/((np.abs(a[u,:]-Rm)+1)*(np.abs(a[v,:]-Rm)+1)),impact)\n",
    "    #print(impact)\n",
    "    return impact"
   ]
  },
  {
   "cell_type": "markdown",
   "metadata": {},
   "source": [
    "## - Popularity"
   ]
  },
  {
   "cell_type": "code",
   "execution_count": 10,
   "metadata": {},
   "outputs": [],
   "source": [
    "def Popularity(a,u,v):\n",
    "    popularity=np.zeros([100])\n",
    "    popularity=np.where(((a[u,:]>avg) & (a[v,:]>avg)) | ((a[u,:]<avg) & (a[v,:]<avg)),1+((a[u,:]+a[v,:])/2-avg)**2,popularity)\n",
    "    popularity=np.where(((a[u,:]>avg) & (a[v,:]<avg)) | ((a[u,:]<avg) & (a[v,:]>avg)),1,popularity)\n",
    "    return popularity"
   ]
  },
  {
   "cell_type": "markdown",
   "metadata": {},
   "source": [
    "## - PIP"
   ]
  },
  {
   "cell_type": "code",
   "execution_count": 11,
   "metadata": {},
   "outputs": [],
   "source": [
    "def PIP(a):\n",
    "    n=len(a)\n",
    "    PIP=np.zeros([n,n])\n",
    "    for u in range(n):\n",
    "        for v in range(u, n):\n",
    "            tmp=0.0\n",
    "            tmp = Proximity(a,u,v) * Impact(a,u,v) * Popularity(a,u,v)\n",
    "            \n",
    "            PIP[u,v]=sum(tmp)\n",
    "            PIP[v,u]=PIP[u,v]\n",
    "    return PIP"
   ]
  },
  {
   "cell_type": "code",
   "execution_count": 77,
   "metadata": {
    "scrolled": true
   },
   "outputs": [
    {
     "data": {
      "text/plain": [
       "array([[1268.05274231,  379.85163506,  485.70681026, ...,  550.58087281,\n",
       "         593.10566971,  419.60511266],\n",
       "       [ 379.85163506,  658.47433055,  490.90917642, ...,  389.96504972,\n",
       "         364.13820195,  484.1146717 ],\n",
       "       [ 485.70681026,  490.90917642,  818.66136811, ...,  554.61962631,\n",
       "         534.825774  ,  476.12827633],\n",
       "       ...,\n",
       "       [ 550.58087281,  389.96504972,  554.61962631, ...,  955.61596031,\n",
       "         654.19053648,  437.89497041],\n",
       "       [ 593.10566971,  364.13820195,  534.825774  , ...,  654.19053648,\n",
       "        1115.73060067,  493.08880442],\n",
       "       [ 419.60511266,  484.1146717 ,  476.12827633, ...,  437.89497041,\n",
       "         493.08880442,  705.27938582]])"
      ]
     },
     "execution_count": 77,
     "metadata": {},
     "output_type": "execute_result"
    }
   ],
   "source": [
    "result_p=PIP(rate)\n",
    "result_p"
   ]
  },
  {
   "cell_type": "markdown",
   "metadata": {},
   "source": [
    "# 2) Verification\n",
    "\n",
    "singularity 와 pip의 similarity로 predicted rating을 구한 후 비교"
   ]
  },
  {
   "cell_type": "code",
   "execution_count": 79,
   "metadata": {},
   "outputs": [],
   "source": [
    "mean=np.mean(rate,axis=1)"
   ]
  },
  {
   "cell_type": "code",
   "execution_count": 67,
   "metadata": {},
   "outputs": [
    {
     "data": {
      "text/plain": [
       "1000"
      ]
     },
     "execution_count": 67,
     "metadata": {},
     "output_type": "execute_result"
    }
   ],
   "source": [
    "len(mean)"
   ]
  },
  {
   "cell_type": "code",
   "execution_count": 15,
   "metadata": {},
   "outputs": [],
   "source": [
    "def predicted(mat,sim,k):\n",
    "    predicted_rating=np.zeros([1000,100])\n",
    "    mean=np.nanmean(np.where(mat!=0, mat, np.nan),axis=1)#user mean\n",
    "        \n",
    "    k_neighbors = np.argsort(-sim)\n",
    "    k_neighbors = np.delete(k_neighbors, np.s_[k:], 1)\n",
    "    \n",
    "    NumUsers=np.size(mat,axis=0) #10\n",
    "    \n",
    "    for u in range(0,NumUsers):\n",
    "        list_sim=sim[u,k_neighbors[u,]]\n",
    "        list_rating=mat[k_neighbors[u, ], ].astype('float64')\n",
    "        list_mean=mean[k_neighbors[u, ], ]\n",
    "        \n",
    "        denominator=np.sum(list_sim)\n",
    "        if denominator==0:\n",
    "            predicted_rating[u]=0\n",
    "        else:\n",
    "            numerator=np.sum(list_sim.reshape(-1,1)*(list_rating - list_mean.reshape(-1,1)),axis=0)\n",
    "            predicted_rating[u] = mean[u] + (numerator/ denominator)\n",
    "     \n",
    "        \n",
    "    return predicted_rating"
   ]
  },
  {
   "cell_type": "markdown",
   "metadata": {},
   "source": [
    "### - PIP"
   ]
  },
  {
   "cell_type": "code",
   "execution_count": 13,
   "metadata": {},
   "outputs": [],
   "source": [
    "sim_p=PIP(rate)"
   ]
  },
  {
   "cell_type": "code",
   "execution_count": 16,
   "metadata": {},
   "outputs": [
    {
     "data": {
      "text/plain": [
       "array([[0.64766148, 0.62284418, 0.61636679, ..., 0.60909845, 0.5989955 ,\n",
       "        0.6529502 ],\n",
       "       [0.2691318 , 0.24225655, 0.22798816, ..., 0.22516915, 0.21242665,\n",
       "        0.26865072],\n",
       "       [0.39745487, 0.37207399, 0.36000818, ..., 0.35174644, 0.33855483,\n",
       "        0.39451082],\n",
       "       ...,\n",
       "       [0.44381303, 0.42148807, 0.40938234, ..., 0.40814893, 0.39029882,\n",
       "        0.45262561],\n",
       "       [0.55549844, 0.53378594, 0.51734745, ..., 0.51343968, 0.50110228,\n",
       "        0.55530916],\n",
       "       [0.32741204, 0.30333084, 0.28789353, ..., 0.28778876, 0.27573969,\n",
       "        0.32946952]])"
      ]
     },
     "execution_count": 16,
     "metadata": {},
     "output_type": "execute_result"
    }
   ],
   "source": [
    "pred_p=predicted(rate,sim_p,1000)\n",
    "pred_p"
   ]
  },
  {
   "cell_type": "markdown",
   "metadata": {},
   "source": [
    "### - singularity"
   ]
  },
  {
   "cell_type": "code",
   "execution_count": 22,
   "metadata": {},
   "outputs": [],
   "source": [
    "sim_s=singularity(rate)"
   ]
  },
  {
   "cell_type": "code",
   "execution_count": 23,
   "metadata": {},
   "outputs": [
    {
     "data": {
      "text/plain": [
       "array([[0.65021099, 0.62411338, 0.6115894 , ..., 0.60706796, 0.59765596,\n",
       "        0.6511318 ],\n",
       "       [0.26929062, 0.24050752, 0.23265949, ..., 0.22193147, 0.21413495,\n",
       "        0.26782601],\n",
       "       [0.39567064, 0.36823428, 0.35660157, ..., 0.34906254, 0.33906646,\n",
       "        0.3932642 ],\n",
       "       ...,\n",
       "       [0.44665824, 0.42056133, 0.40836387, ..., 0.40395466, 0.39103598,\n",
       "        0.44843969],\n",
       "       [0.55652571, 0.53073445, 0.51755178, ..., 0.51140872, 0.50092962,\n",
       "        0.55503946],\n",
       "       [0.33047736, 0.3032941 , 0.29064171, ..., 0.28634865, 0.27640107,\n",
       "        0.32867905]])"
      ]
     },
     "execution_count": 23,
     "metadata": {},
     "output_type": "execute_result"
    }
   ],
   "source": [
    "pred_s=predicted(rate,sim_s,1000)\n",
    "pred_s"
   ]
  },
  {
   "cell_type": "markdown",
   "metadata": {},
   "source": [
    "### - pip  error"
   ]
  },
  {
   "cell_type": "code",
   "execution_count": 24,
   "metadata": {},
   "outputs": [
    {
     "data": {
      "text/plain": [
       "array([[ 0.056, -0.137,  0.202, ..., -0.092, -0.315, -0.099],\n",
       "       [-0.078,  0.081,  0.294, ..., -0.179,  0.035,  0.059],\n",
       "       [ 0.445,  0.286,  0.598, ...,  0.146,  0.227,  0.105],\n",
       "       ...,\n",
       "       [ 0.323, -0.407,  0.338, ...,  0.036, -0.172,  0.331],\n",
       "       [ 0.328,  0.376,  0.022, ..., -0.125, -0.397, -0.431],\n",
       "       [-0.206, -0.039, -0.254, ..., -0.239,  0.006, -0.07 ]])"
      ]
     },
     "execution_count": 24,
     "metadata": {},
     "output_type": "execute_result"
    }
   ],
   "source": [
    "error_pip=(rate-pred_p).astype('float')\n",
    "error_pip.round(3)"
   ]
  },
  {
   "cell_type": "markdown",
   "metadata": {},
   "source": [
    "### - singularity error"
   ]
  },
  {
   "cell_type": "code",
   "execution_count": 25,
   "metadata": {},
   "outputs": [
    {
     "data": {
      "text/plain": [
       "array([[ 0.054, -0.139,  0.206, ..., -0.09 , -0.314, -0.098],\n",
       "       [-0.078,  0.082,  0.289, ..., -0.176,  0.033,  0.06 ],\n",
       "       [ 0.446,  0.29 ,  0.602, ...,  0.148,  0.226,  0.107],\n",
       "       ...,\n",
       "       [ 0.32 , -0.406,  0.339, ...,  0.04 , -0.173,  0.336],\n",
       "       [ 0.327,  0.379,  0.021, ..., -0.123, -0.396, -0.431],\n",
       "       [-0.209, -0.039, -0.257, ..., -0.238,  0.005, -0.069]])"
      ]
     },
     "execution_count": 25,
     "metadata": {},
     "output_type": "execute_result"
    }
   ],
   "source": [
    "error_sing=(rate-pred_s).astype('float')\n",
    "error_sing.round(3)"
   ]
  },
  {
   "cell_type": "markdown",
   "metadata": {},
   "source": [
    "## Compare"
   ]
  },
  {
   "cell_type": "code",
   "execution_count": 26,
   "metadata": {},
   "outputs": [
    {
     "name": "stdout",
     "output_type": "stream",
     "text": [
      "error_mean_PIP =  -7.500000000001095e-07 \n",
      "error_mean_singulrity =  0.0019029300000000002\n"
     ]
    }
   ],
   "source": [
    "ep=np.mean(error_pip.round(3))\n",
    "es=np.mean(error_sing.round(3))\n",
    "print('error_mean_PIP = ',ep,'\\nerror_mean_singulrity = ',es)"
   ]
  }
 ],
 "metadata": {
  "kernelspec": {
   "display_name": "Python 3",
   "language": "python",
   "name": "python3"
  },
  "language_info": {
   "codemirror_mode": {
    "name": "ipython",
    "version": 3
   },
   "file_extension": ".py",
   "mimetype": "text/x-python",
   "name": "python",
   "nbconvert_exporter": "python",
   "pygments_lexer": "ipython3",
   "version": "3.7.4"
  }
 },
 "nbformat": 4,
 "nbformat_minor": 2
}
